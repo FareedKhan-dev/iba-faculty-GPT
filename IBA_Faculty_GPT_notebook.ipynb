{
 "cells": [
  {
   "attachments": {},
   "cell_type": "markdown",
   "metadata": {},
   "source": [
    "## Name: Fareed Hassan Khan\n",
    "## ERP ID: 25367\n",
    "## Text Analytics Final Project Notebook Code "
   ]
  },
  {
   "attachments": {},
   "cell_type": "markdown",
   "metadata": {},
   "source": [
    "Importing Libraries"
   ]
  },
  {
   "cell_type": "code",
   "execution_count": 2,
   "metadata": {},
   "outputs": [],
   "source": [
    "import requests\n",
    "from bs4 import BeautifulSoup\n",
    "import pandas as pd\n",
    "import numpy as np\n",
    "import openai\n",
    "from getpass import getpass\n",
    "from openai.embeddings_utils import get_embedding\n",
    "import gzip\n",
    "\n",
    "# davinchi model for chatbot.\n",
    "EMBEDDINGS_MODEL = \"text-embedding-ada-002\"\n",
    "\n",
    "openai.api_key = getpass(\"Enter your OpenAI API Key\")"
   ]
  },
  {
   "attachments": {},
   "cell_type": "markdown",
   "metadata": {},
   "source": [
    "Scraping Total number of faculty profiles along with their links "
   ]
  },
  {
   "cell_type": "code",
   "execution_count": null,
   "metadata": {},
   "outputs": [],
   "source": [
    "# The base URL for the faculty profiles page\n",
    "base_url = \"https://www.iba.edu.pk/faculty-profiles.php\"\n",
    "\n",
    "faculty_list_with_department = []\n",
    "\n",
    "links = []\n",
    "\n",
    "# The available options for faculty type and department\n",
    "faculty_options = [\"Fulltime+Faculty\", \"Visiting Faculty\"]\n",
    "faculty_options = [s.replace(\" \", \"+\") for s in faculty_options]\n",
    "department_options = [s.replace(\" \", \"+\") for s in ['Accounting & Law', 'Computer Science', 'Economics', 'Finance', 'Management', 'Marketing', \n",
    "                                                    'Mathematical Sciences', 'Social Sciences & Liberal Arts']]\n",
    "\n",
    "faculty_list_with_department = [f\"{base_url}?school=&facultylist={f}&departmentlist={d}&faculty_name=\" for f in faculty_options for d in department_options] + \\\n",
    "                                [f\"{base_url}?school=&facultylist={f}&departmentlist=&faculty_name=\" for f in faculty_options] + \\\n",
    "                                [f\"{base_url}?school=&facultylist=&departmentlist={d}&faculty_name=\" for d in department_options] + \\\n",
    "                                [f\"{base_url}\"]\n",
    "\n",
    "for each_link in faculty_list_with_department:\n",
    "  response = requests.get(each_link)\n",
    "  soup = BeautifulSoup(response.content, \"html.parser\")\n",
    "\n",
    "  faculty_cards = soup.find_all(\"div\", {\"class\": \"faculty-profile-card\"})\n",
    "\n",
    "  for card in faculty_cards:\n",
    "      profile_link = card.find(\"span\").find(\"a\")[\"href\"]\n",
    "      links.append('https://www.iba.edu.pk/' + profile_link)"
   ]
  },
  {
   "attachments": {},
   "cell_type": "markdown",
   "metadata": {},
   "source": [
    "Printing total number of profiles on IBA website"
   ]
  },
  {
   "cell_type": "code",
   "execution_count": 2,
   "metadata": {},
   "outputs": [
    {
     "name": "stdout",
     "output_type": "stream",
     "text": [
      "Total number of profiles are 478\n"
     ]
    }
   ],
   "source": [
    "import pickle\n",
    "\n",
    "# Load the list back using pickle\n",
    "with open('profiles_list.pkl', 'rb') as f:\n",
    "    total_unique_profiles = pickle.load(f)\n",
    "\n",
    "# total_unique_profiles = list(set(links))\n",
    "print(f'Total number of profiles are {len(total_unique_profiles)}')"
   ]
  },
  {
   "attachments": {},
   "cell_type": "markdown",
   "metadata": {},
   "source": [
    "Getting complete Information of each profile"
   ]
  },
  {
   "cell_type": "code",
   "execution_count": null,
   "metadata": {},
   "outputs": [],
   "source": [
    "names = []\n",
    "basic_information = []\n",
    "main_list = []\n",
    "for each_profile in total_unique_profiles:\n",
    "    response = requests.get(each_profile)\n",
    "    soup = BeautifulSoup(response.content, 'html.parser')\n",
    "    basic_info = soup.find('div', {'class': 'faculty-profile-info'})\n",
    "    name, position = [elem.text.strip() for elem in basic_info.find_all(['h1', 'h2'])]\n",
    "    department, specialization, onboard_status, email = [elem.text.strip().replace(f, '') for elem, f in zip(basic_info.find_all('h3'), ['Department:', 'Specialization:', 'Onboard Status:', 'Email:'])]\n",
    "    output = f\"{name} is an {position} at the IBA, Karachi. Specializing in {specialization} and belongs to department of {department}. Currently {onboard_status} for onboard opportunities and can be contacted via email at {email}.\" if specialization else f'{name} is an {position} at the IBA Karachi. Currently available for onboard opportunities and can be contacted via email at {email}.'\n",
    "    names.append(name)\n",
    "    basic_information.append(output)\n",
    "\n",
    "    info = {}\n",
    "\n",
    "    for section in ['overview', 'qualification', 'interests', 'courses', 'output', 'projects']:\n",
    "        if section != 'output':\n",
    "            items = soup.find('div', {'id': section}).find_all('li')\n",
    "            if len(items) > 0:\n",
    "                info[section] = [item.text for item in items]\n",
    "            else:\n",
    "                info[section] = [f'No {section} found in the profile provided by IBA']\n",
    "        if section == 'projects':\n",
    "            items = soup.find('div', {'id': 'projects'}).find_all('li')\n",
    "            if len(items) > 0:\n",
    "                info[section] = [item.get_text(strip=True) for item in items]\n",
    "            else:\n",
    "                info[section] = [f'No {section} found in the profile provided by IBA']\n",
    "        else:\n",
    "            for h4 in soup.find('div', {'id': section}).find_all('h4')[1:]:\n",
    "                key = h4.text.strip()\n",
    "                ul = h4.find_next('ul').find_all('li')\n",
    "                if len(ul) > 0:\n",
    "                    for each in range(0,len(ul)):\n",
    "                        ul[each] = ul[each].text.strip()\n",
    "                    info[key] = ul\n",
    "                else:\n",
    "                    info[key] = [f'No {h4.text.strip()} found in the profile provided by IBA']\n",
    "    main_list.append(info)"
   ]
  },
  {
   "attachments": {},
   "cell_type": "markdown",
   "metadata": {},
   "source": [
    "Converting the final output into a Dataframe"
   ]
  },
  {
   "cell_type": "code",
   "execution_count": null,
   "metadata": {},
   "outputs": [],
   "source": [
    "df = pd.DataFrame({'names':names, 'basic_information':basic_information, 'profile_link':total_unique_profiles, 'complete information':main_list})"
   ]
  },
  {
   "attachments": {},
   "cell_type": "markdown",
   "metadata": {},
   "source": [
    "Reading the saved Dataframe"
   ]
  },
  {
   "cell_type": "code",
   "execution_count": 2,
   "metadata": {},
   "outputs": [
    {
     "data": {
      "text/html": [
       "<div>\n",
       "<style scoped>\n",
       "    .dataframe tbody tr th:only-of-type {\n",
       "        vertical-align: middle;\n",
       "    }\n",
       "\n",
       "    .dataframe tbody tr th {\n",
       "        vertical-align: top;\n",
       "    }\n",
       "\n",
       "    .dataframe thead th {\n",
       "        text-align: right;\n",
       "    }\n",
       "</style>\n",
       "<table border=\"1\" class=\"dataframe\">\n",
       "  <thead>\n",
       "    <tr style=\"text-align: right;\">\n",
       "      <th></th>\n",
       "      <th>names</th>\n",
       "      <th>basic_information</th>\n",
       "      <th>profile_link</th>\n",
       "      <th>complete information</th>\n",
       "    </tr>\n",
       "  </thead>\n",
       "  <tbody>\n",
       "    <tr>\n",
       "      <th>0</th>\n",
       "      <td>Syed Ameer Hasan Rizvi</td>\n",
       "      <td>Syed Ameer Hasan Rizvi is an Lecturer at the I...</td>\n",
       "      <td>https://www.iba.edu.pk/faculty-profile.php?fty...</td>\n",
       "      <td>{'overview': ['Lecturer at Institute of Busine...</td>\n",
       "    </tr>\n",
       "    <tr>\n",
       "      <th>1</th>\n",
       "      <td>Sayem Ali</td>\n",
       "      <td>Sayem Ali is an Visiting Faculty at the IBA, K...</td>\n",
       "      <td>https://www.iba.edu.pk/faculty-profile.php?fty...</td>\n",
       "      <td>{'overview': ['- Consultant/Financial Markets ...</td>\n",
       "    </tr>\n",
       "    <tr>\n",
       "      <th>2</th>\n",
       "      <td>Dr. Naved Ahmad</td>\n",
       "      <td>Dr. Naved Ahmad is an Professor at the IBA, Ka...</td>\n",
       "      <td>https://www.iba.edu.pk/faculty-profile.php?fty...</td>\n",
       "      <td>{'overview': ['Professor at Institute of Busin...</td>\n",
       "    </tr>\n",
       "    <tr>\n",
       "      <th>3</th>\n",
       "      <td>Summer Qassim</td>\n",
       "      <td>Summer Qassim is an Lecturer at the IBA, Karac...</td>\n",
       "      <td>https://www.iba.edu.pk/faculty-profile.php?fty...</td>\n",
       "      <td>{'overview': ['Lecturer at Institute of Busine...</td>\n",
       "    </tr>\n",
       "    <tr>\n",
       "      <th>4</th>\n",
       "      <td>NaN</td>\n",
       "      <td>is an  at the IBA Karachi. Currently availabl...</td>\n",
       "      <td>https://www.iba.edu.pk/faculty-profile.php?fty...</td>\n",
       "      <td>{'overview': ['No overview found in the profil...</td>\n",
       "    </tr>\n",
       "  </tbody>\n",
       "</table>\n",
       "</div>"
      ],
      "text/plain": [
       "                    names                                  basic_information  \\\n",
       "0  Syed Ameer Hasan Rizvi  Syed Ameer Hasan Rizvi is an Lecturer at the I...   \n",
       "1               Sayem Ali  Sayem Ali is an Visiting Faculty at the IBA, K...   \n",
       "2         Dr. Naved Ahmad  Dr. Naved Ahmad is an Professor at the IBA, Ka...   \n",
       "3           Summer Qassim  Summer Qassim is an Lecturer at the IBA, Karac...   \n",
       "4                     NaN   is an  at the IBA Karachi. Currently availabl...   \n",
       "\n",
       "                                        profile_link  \\\n",
       "0  https://www.iba.edu.pk/faculty-profile.php?fty...   \n",
       "1  https://www.iba.edu.pk/faculty-profile.php?fty...   \n",
       "2  https://www.iba.edu.pk/faculty-profile.php?fty...   \n",
       "3  https://www.iba.edu.pk/faculty-profile.php?fty...   \n",
       "4  https://www.iba.edu.pk/faculty-profile.php?fty...   \n",
       "\n",
       "                                complete information  \n",
       "0  {'overview': ['Lecturer at Institute of Busine...  \n",
       "1  {'overview': ['- Consultant/Financial Markets ...  \n",
       "2  {'overview': ['Professor at Institute of Busin...  \n",
       "3  {'overview': ['Lecturer at Institute of Busine...  \n",
       "4  {'overview': ['No overview found in the profil...  "
      ]
     },
     "execution_count": 2,
     "metadata": {},
     "output_type": "execute_result"
    }
   ],
   "source": [
    "df = pd.read_csv('finalized_dataframe.csv')\n",
    "df.head()"
   ]
  },
  {
   "attachments": {},
   "cell_type": "markdown",
   "metadata": {},
   "source": [
    "Removing any NAN and duplicate values"
   ]
  },
  {
   "cell_type": "code",
   "execution_count": 3,
   "metadata": {},
   "outputs": [],
   "source": [
    "# drop row that contain NaN in the 'names' column.\n",
    "df.dropna(subset=['names'], inplace=True)\n",
    "# drop duplicate rows from names column\n",
    "df.drop_duplicates(subset=['basic_information'], inplace=True)"
   ]
  },
  {
   "attachments": {},
   "cell_type": "markdown",
   "metadata": {},
   "source": [
    "Converting datatype to original formats"
   ]
  },
  {
   "cell_type": "code",
   "execution_count": 4,
   "metadata": {},
   "outputs": [],
   "source": [
    "from ast import literal_eval\n",
    "\n",
    "def try_literal_eval(s):\n",
    "    try:\n",
    "        return literal_eval(s)\n",
    "    except ValueError:\n",
    "        return s\n",
    "    \n",
    "df['complete information'] = df['complete information'].apply(try_literal_eval)\n",
    "# remove double spaces using regex on complete dataframe.\n",
    "df['basic_information'] = df['basic_information'].str.replace('  ', ' ')"
   ]
  },
  {
   "attachments": {},
   "cell_type": "markdown",
   "metadata": {},
   "source": [
    "Making the information readable for ChatGPT"
   ]
  },
  {
   "cell_type": "code",
   "execution_count": 5,
   "metadata": {},
   "outputs": [],
   "source": [
    "df['finalized_text'] = df['complete information'].apply(lambda x: {k: '\\n'.join(v) for k, v in x.items()})\n",
    "\n",
    "# define a lambda function to replace 'overview' with 'professional experience'\n",
    "replace_over_with_prof = lambda x: {k.replace('overview', 'professional experience'): v for k, v in x.items()}\n",
    "\n",
    "# apply the lambda function to each dictionary in the DataFrame\n",
    "df['finalized_text'] = df['finalized_text'].apply(replace_over_with_prof)\n",
    "\n",
    "for each in range(0,df.shape[0]):\n",
    "    df['finalized_text'].iloc[each]['professional experience'] = df['names'].iloc[each] + ' has following experience:\\n' + df['finalized_text'].iloc[each]['professional experience']\n",
    "    df['finalized_text'].iloc[each]['qualification'] = df['names'].iloc[each] + ' has following qualifications:\\n' + df['finalized_text'].iloc[each]['qualification']\n",
    "    df['finalized_text'].iloc[each]['interests'] = df['names'].iloc[each] + ' has following interests:\\n' + df['finalized_text'].iloc[each]['interests']\n",
    "    df['finalized_text'].iloc[each]['courses'] = df['names'].iloc[each] + ' teaches following courses:\\n' + df['finalized_text'].iloc[each]['courses']\n",
    "    df['finalized_text'].iloc[each]['Journal Publication(s)'] = df['names'].iloc[each] + ' has following Journal Publications:\\n' + df['finalized_text'].iloc[each]['Journal Publication(s)']\n",
    "    df['finalized_text'].iloc[each]['Conference(s)'] = df['names'].iloc[each] + ' has following conferences:\\n' + df['finalized_text'].iloc[each]['Conference(s)']\n",
    "    df['finalized_text'].iloc[each]['Other(s)'] = df['names'].iloc[each] + ' other kind of information:\\n' + df['finalized_text'].iloc[each]['Other(s)']\n",
    "    df['finalized_text'].iloc[each]['Book(s)'] = df['names'].iloc[each] + ' has written following books:\\n' + df['finalized_text'].iloc[each]['Book(s)']\n",
    "    df['finalized_text'].iloc[each]['Case(s)'] = df['names'].iloc[each] + ' has following case studies:\\n' + df['finalized_text'].iloc[each]['Case(s)']\n",
    "    df['finalized_text'].iloc[each]['projects'] = df['names'].iloc[each] + ' has done following projects:\\n' + df['finalized_text'].iloc[each]['projects']"
   ]
  },
  {
   "attachments": {},
   "cell_type": "markdown",
   "metadata": {},
   "source": [
    "Creating a finalized Dataframe for embedding calculation"
   ]
  },
  {
   "cell_type": "code",
   "execution_count": 7,
   "metadata": {},
   "outputs": [],
   "source": [
    "information_profile = []\n",
    "\n",
    "for each in range(0,df.shape[0]):\n",
    "    temporary_data = pd.DataFrame({'information' : df.iloc[each].finalized_text})\n",
    "    temporary_data.reset_index(inplace=True, drop=True)\n",
    "    information_profile.append(temporary_data)\n",
    "\n",
    "finalized_data = pd.concat(information_profile, axis=0, ignore_index=True)"
   ]
  },
  {
   "attachments": {},
   "cell_type": "markdown",
   "metadata": {},
   "source": [
    "Pricing calculation for embedding"
   ]
  },
  {
   "cell_type": "code",
   "execution_count": 107,
   "metadata": {},
   "outputs": [
    {
     "name": "stdout",
     "output_type": "stream",
     "text": [
      "Total embedding cost is $0.12 dollar equivalent to 40 PKR\n"
     ]
    }
   ],
   "source": [
    "col1_str = ' '.join(finalized_data['information'].astype(str))\n",
    "total_words = len(col1_str.split())\n",
    "\n",
    "Tokens = 3/4 * total_words\n",
    "price_per_thousand_tokens = 0.0004\n",
    "\n",
    "print(f'Total embedding cost is $0.12 dollar equivalent to 40 PKR') "
   ]
  },
  {
   "attachments": {},
   "cell_type": "markdown",
   "metadata": {},
   "source": [
    "Calculating Embedding"
   ]
  },
  {
   "cell_type": "code",
   "execution_count": null,
   "metadata": {},
   "outputs": [],
   "source": [
    "def apply_embedding(row):\n",
    "    print('done')\n",
    "    embedding_vector = get_embedding(row, engine='text-embedding-ada-002')\n",
    "    return embedding_vector\n",
    "\n",
    "embedded_data = pd.read_csv('finalized_data_with_embedding.csv')\n",
    "embedded_data['embedding'] = embedded_data['embedding'].apply(try_literal_eval)"
   ]
  },
  {
   "attachments": {},
   "cell_type": "markdown",
   "metadata": {},
   "source": [
    "Saving information data and embedded vectors in compressed pickle file to save memory **because finalized data is of 150 MB** "
   ]
  },
  {
   "cell_type": "code",
   "execution_count": 5,
   "metadata": {},
   "outputs": [],
   "source": [
    "# read embedded dataframe.\n",
    "embedded_data = pd.read_csv('finalized_data_with_embedding.csv')\n",
    "embedded_data['embedding'] = embedded_data['embedding'].apply(try_literal_eval)\n",
    "\n",
    "# saving the information is an array to retrieve it faster\n",
    "information_array = np.array(embedded_data.information)\n",
    "embedding_array = np.array(embedded_data.embedding)"
   ]
  },
  {
   "attachments": {},
   "cell_type": "markdown",
   "metadata": {},
   "source": [
    "Saving both the information and embedded vectors in compressed files and reading it"
   ]
  },
  {
   "cell_type": "code",
   "execution_count": 6,
   "metadata": {},
   "outputs": [],
   "source": [
    "data_arrays = np.array([embedding_array, information_array])\n",
    "\n",
    "# # compress the array and save it to disk\n",
    "with gzip.open('vectorized_data.npy.gz', 'wb') as f:\n",
    "    np.save(f, data_arrays)"
   ]
  },
  {
   "cell_type": "code",
   "execution_count": null,
   "metadata": {},
   "outputs": [],
   "source": [
    "with gzip.open('vectorized_data.npy.gz', 'rb') as f:\n",
    "    data_array = np.load(f, allow_pickle=True)"
   ]
  },
  {
   "attachments": {},
   "cell_type": "markdown",
   "metadata": {},
   "source": [
    "Asking the question"
   ]
  },
  {
   "cell_type": "code",
   "execution_count": 34,
   "metadata": {},
   "outputs": [],
   "source": [
    "question = \"who is the program director of MS IBF program?\"\n",
    "\n",
    "\n",
    "question_vector = get_embedding(question, engine='text-embedding-ada-002')\n",
    "\n",
    "question_vector_transform = np.array(question_vector).reshape(1, -1)"
   ]
  },
  {
   "attachments": {},
   "cell_type": "markdown",
   "metadata": {},
   "source": [
    "Finding Cosine Similarity of question with information"
   ]
  },
  {
   "cell_type": "code",
   "execution_count": 36,
   "metadata": {},
   "outputs": [],
   "source": [
    "from sklearn.metrics.pairwise import cosine_similarity\n",
    "similarity = []\n",
    "\n",
    "for each in data_array[0]:\n",
    "    v2 = np.array(each).reshape(1, -1)\n",
    "    # compute the cosine similarity\n",
    "    cosinesimilarity = cosine_similarity(question_vector_transform, v2)[0][0]\n",
    "    similarity.append(cosinesimilarity)\n",
    "\n",
    "similarity = np.array(similarity)"
   ]
  },
  {
   "attachments": {},
   "cell_type": "markdown",
   "metadata": {},
   "source": [
    "Sorting the information based on cosine similarity"
   ]
  },
  {
   "cell_type": "code",
   "execution_count": null,
   "metadata": {},
   "outputs": [],
   "source": [
    "# Get the sorted indices of y in descending order\n",
    "sorted_indices = np.argsort(-similarity)\n",
    "\n",
    "# Sort x and y based on sorted_indices\n",
    "information_this = ' '.join(data_array[1][sorted_indices[0:3]])\n",
    "cosinesimilarity_this = similarity[sorted_indices[0]]"
   ]
  },
  {
   "attachments": {},
   "cell_type": "markdown",
   "metadata": {},
   "source": [
    "Using GPT-3.5 (Text-davinchi model) for answering the question using context and prompt"
   ]
  },
  {
   "cell_type": "code",
   "execution_count": 38,
   "metadata": {},
   "outputs": [
    {
     "data": {
      "text/plain": [
       "'Dr. Irum Saba is the Program Director of MS-IBF at Institute of Business Administration, Karachi (Mar-2021 to Present).'"
      ]
     },
     "execution_count": 38,
     "metadata": {},
     "output_type": "execute_result"
    }
   ],
   "source": [
    "prompt = f\"\"\"Answer only IBA related question using only the context below, Answer it in professional way, if you are not able to answer the question make sure you reply that you have trained on a very small dataset, dont provide any information about the context\n",
    "Context:\n",
    "{information_this}\n",
    "\n",
    "Q: {question}\n",
    "A:\"\"\"\n",
    "\n",
    "openai.Completion.create(\n",
    "    prompt=prompt,\n",
    "    temperature=1,\n",
    "    max_tokens=500,\n",
    "    top_p=1,\n",
    "    frequency_penalty=0,\n",
    "    presence_penalty=0,\n",
    "    model='text-davinci-003'\n",
    ")[\"choices\"][0][\"text\"].strip(\" \\n\")"
   ]
  },
  {
   "attachments": {},
   "cell_type": "markdown",
   "metadata": {},
   "source": [
    "____________"
   ]
  }
 ],
 "metadata": {
  "kernelspec": {
   "display_name": ".venv-iba-chatbot",
   "language": "python",
   "name": "python3"
  },
  "language_info": {
   "codemirror_mode": {
    "name": "ipython",
    "version": 3
   },
   "file_extension": ".py",
   "mimetype": "text/x-python",
   "name": "python",
   "nbconvert_exporter": "python",
   "pygments_lexer": "ipython3",
   "version": "3.9.0"
  },
  "orig_nbformat": 4
 },
 "nbformat": 4,
 "nbformat_minor": 2
}
